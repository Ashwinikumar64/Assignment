{
 "cells": [
  {
   "cell_type": "code",
   "execution_count": null,
   "id": "2870a183-4795-465d-8825-c91bd4c15a7d",
   "metadata": {},
   "outputs": [],
   "source": [
    "#Q1\n",
    "#creating one variable containing following data like string,list,float,tuple "
   ]
  },
  {
   "cell_type": "code",
   "execution_count": 1,
   "id": "1364ab65-9960-42fb-b8db-41d778afc628",
   "metadata": {},
   "outputs": [],
   "source": [
    "x=\"Ashwini\",['data science','web development','decode'],45.18,(45,18,\"Ashwini\")"
   ]
  },
  {
   "cell_type": "code",
   "execution_count": 2,
   "id": "f7bda8ab-c497-4d4e-a9ad-1463f4a50ff6",
   "metadata": {},
   "outputs": [
    {
     "name": "stdout",
     "output_type": "stream",
     "text": [
      "('Ashwini', ['data science', 'web development', 'decode'], 45.18, (45, 18, 'Ashwini'))\n"
     ]
    }
   ],
   "source": [
    "print(x)"
   ]
  },
  {
   "cell_type": "code",
   "execution_count": null,
   "id": "6649741e-b53e-4603-8d31-f1d5bc385bf8",
   "metadata": {},
   "outputs": [],
   "source": [
    "#Q2\n",
    "#finding the data type of given variable"
   ]
  },
  {
   "cell_type": "code",
   "execution_count": 6,
   "id": "53d78b74-5450-421a-97b9-1d62133d09ef",
   "metadata": {},
   "outputs": [],
   "source": [
    "var1='Ashwini'"
   ]
  },
  {
   "cell_type": "code",
   "execution_count": 7,
   "id": "4dcf250a-0e0d-453a-adb0-12f76613b55d",
   "metadata": {},
   "outputs": [
    {
     "data": {
      "text/plain": [
       "str"
      ]
     },
     "execution_count": 7,
     "metadata": {},
     "output_type": "execute_result"
    }
   ],
   "source": [
    "type(var1)"
   ]
  },
  {
   "cell_type": "code",
   "execution_count": 9,
   "id": "31c46666-4849-451e-8ab8-3934c358e5d1",
   "metadata": {},
   "outputs": [],
   "source": [
    "var2='[DS,ML,PYTHON]'"
   ]
  },
  {
   "cell_type": "code",
   "execution_count": 10,
   "id": "2b48aed1-f887-431c-9d7c-b2fba93366d0",
   "metadata": {},
   "outputs": [
    {
     "data": {
      "text/plain": [
       "str"
      ]
     },
     "execution_count": 10,
     "metadata": {},
     "output_type": "execute_result"
    }
   ],
   "source": [
    "type(var2)"
   ]
  },
  {
   "cell_type": "code",
   "execution_count": 11,
   "id": "1b1ebd1d-493e-4ab2-b2a4-e072f6cd1d4c",
   "metadata": {},
   "outputs": [],
   "source": [
    "var3=['DS','ML','PYTHON']"
   ]
  },
  {
   "cell_type": "code",
   "execution_count": 12,
   "id": "4779f0ac-3ff5-4512-a90c-d0de5104d70f",
   "metadata": {},
   "outputs": [
    {
     "data": {
      "text/plain": [
       "list"
      ]
     },
     "execution_count": 12,
     "metadata": {},
     "output_type": "execute_result"
    }
   ],
   "source": [
    "type(var3)"
   ]
  },
  {
   "cell_type": "code",
   "execution_count": 13,
   "id": "b2f3319a-32f6-4d49-b4d0-82335c509f5a",
   "metadata": {},
   "outputs": [],
   "source": [
    "var4=1"
   ]
  },
  {
   "cell_type": "code",
   "execution_count": 14,
   "id": "bd6f5ddb-5235-4dbb-8b68-8ca6ac60a94e",
   "metadata": {},
   "outputs": [
    {
     "data": {
      "text/plain": [
       "int"
      ]
     },
     "execution_count": 14,
     "metadata": {},
     "output_type": "execute_result"
    }
   ],
   "source": [
    "type(var4)"
   ]
  },
  {
   "cell_type": "code",
   "execution_count": null,
   "id": "adb6103d-ae4c-4100-940b-09f728d88e1f",
   "metadata": {},
   "outputs": [],
   "source": [
    "#Q4 Use of operator with example"
   ]
  },
  {
   "cell_type": "code",
   "execution_count": null,
   "id": "8a8afef3-d060-4b50-b44f-60e22d4aad1a",
   "metadata": {},
   "outputs": [],
   "source": [
    "# / is use for division"
   ]
  },
  {
   "cell_type": "code",
   "execution_count": 15,
   "id": "af717a57-fcda-45fc-9e5b-60d8989c3e94",
   "metadata": {},
   "outputs": [
    {
     "data": {
      "text/plain": [
       "5.0"
      ]
     },
     "execution_count": 15,
     "metadata": {},
     "output_type": "execute_result"
    }
   ],
   "source": [
    "10/2"
   ]
  },
  {
   "cell_type": "code",
   "execution_count": null,
   "id": "f038112f-24da-4027-acdd-51d690064f53",
   "metadata": {},
   "outputs": [],
   "source": [
    "# % it is used to find remainder"
   ]
  },
  {
   "cell_type": "code",
   "execution_count": 17,
   "id": "3d8511e6-7f1c-4b4f-992f-d3e130810855",
   "metadata": {},
   "outputs": [
    {
     "data": {
      "text/plain": [
       "3"
      ]
     },
     "execution_count": 17,
     "metadata": {},
     "output_type": "execute_result"
    }
   ],
   "source": [
    "8%5"
   ]
  },
  {
   "cell_type": "code",
   "execution_count": null,
   "id": "020450b6-5bf2-4400-9589-5b1814976900",
   "metadata": {},
   "outputs": [],
   "source": [
    "# ** it is used to find square of a number"
   ]
  },
  {
   "cell_type": "code",
   "execution_count": 18,
   "id": "de0e18d6-157e-48c8-ab77-449da45f4ab7",
   "metadata": {},
   "outputs": [
    {
     "data": {
      "text/plain": [
       "4"
      ]
     },
     "execution_count": 18,
     "metadata": {},
     "output_type": "execute_result"
    }
   ],
   "source": [
    "2**2"
   ]
  },
  {
   "cell_type": "code",
   "execution_count": null,
   "id": "f2383269-7d64-4d64-8275-f621a5c44b7f",
   "metadata": {},
   "outputs": [],
   "source": [
    "#Q4\n",
    "#Creating a list of length 10 of yuor choise containing multiple data.Using for loop print the element and its data type."
   ]
  },
  {
   "cell_type": "code",
   "execution_count": 22,
   "id": "042bd9ce-9652-4015-ab51-d0ff8559e9df",
   "metadata": {},
   "outputs": [],
   "source": [
    "list=['Ashwini',45,18,'Naval Ravikant',45.1,'Data scienctist']"
   ]
  },
  {
   "cell_type": "code",
   "execution_count": 23,
   "id": "d831d0b1-a601-4066-ba34-dbcd187c3750",
   "metadata": {},
   "outputs": [
    {
     "name": "stdout",
     "output_type": "stream",
     "text": [
      "Ashwini\n",
      "45\n",
      "18\n",
      "Naval Ravikant\n",
      "45.1\n",
      "Data scienctist\n"
     ]
    }
   ],
   "source": [
    "for i in list:\n",
    "    print(i)"
   ]
  },
  {
   "cell_type": "code",
   "execution_count": null,
   "id": "5af9790b-824b-44ba-b35d-5cee28fec3ae",
   "metadata": {},
   "outputs": [],
   "source": [
    "#Q6\n",
    "#Create a list of 25 int type data.Using for loop and if-else condition print if the element is divisible by 3 or not."
   ]
  },
  {
   "cell_type": "code",
   "execution_count": 24,
   "id": "a9428055-a825-4d75-8d4b-7a79cb07a1f6",
   "metadata": {},
   "outputs": [],
   "source": [
    "list=[2,3,6,7,34,56,78,24,9,80,45,68,97,25,89,16,73,81,95,1,19,72,91,84,0]"
   ]
  },
  {
   "cell_type": "code",
   "execution_count": 36,
   "id": "0e8f986b-8eb4-40aa-8ce6-9c4fc3986b3b",
   "metadata": {},
   "outputs": [
    {
     "name": "stdout",
     "output_type": "stream",
     "text": [
      "2 is not divisible by 3\n",
      "3 is divisible by 3\n",
      "6 is divisible by 3\n",
      "7 is not divisible by 3\n",
      "34 is not divisible by 3\n",
      "56 is not divisible by 3\n",
      "78 is divisible by 3\n",
      "24 is divisible by 3\n",
      "9 is divisible by 3\n",
      "80 is not divisible by 3\n",
      "45 is divisible by 3\n",
      "68 is not divisible by 3\n",
      "97 is not divisible by 3\n",
      "25 is not divisible by 3\n",
      "89 is not divisible by 3\n",
      "16 is not divisible by 3\n",
      "73 is not divisible by 3\n",
      "81 is divisible by 3\n",
      "95 is not divisible by 3\n",
      "1 is not divisible by 3\n",
      "19 is not divisible by 3\n",
      "72 is divisible by 3\n",
      "91 is not divisible by 3\n",
      "84 is divisible by 3\n",
      "0 is divisible by 3\n"
     ]
    }
   ],
   "source": [
    "for i in list:\n",
    "    if i%3==0:\n",
    "        print(i,'is divisible by 3')\n",
    "    else:\n",
    "            print(i, 'is not divisible by 3')"
   ]
  },
  {
   "cell_type": "code",
   "execution_count": null,
   "id": "0c5a803d-f557-4e61-97c3-38864888a197",
   "metadata": {},
   "outputs": [],
   "source": [
    "#Q7 \n",
    "#What do you understand by mutable and unmutable data type.give example for both showuing this property."
   ]
  },
  {
   "cell_type": "code",
   "execution_count": null,
   "id": "f7a6dfae-35c1-4ced-a8c9-f591706e7c3a",
   "metadata": {},
   "outputs": [],
   "source": [
    "#Mutabele means once it is formed it can be modified or update by using particular index number.\n",
    "#exaple-List"
   ]
  },
  {
   "cell_type": "code",
   "execution_count": null,
   "id": "4f159f9f-a990-41dc-99e9-6d90d3d3100a",
   "metadata": {},
   "outputs": [],
   "source": [
    "#Unmutable means once it is formed it cannot be modified orn updated by calling that particular index number\n",
    "#example-String"
   ]
  },
  {
   "cell_type": "code",
   "execution_count": null,
   "id": "700fce20-cc26-4ef5-845e-de966ec9d8af",
   "metadata": {},
   "outputs": [],
   "source": [
    "#Using a while loop,verify if the number A is purely divisible by number B and if so then how many times it can be divisible."
   ]
  },
  {
   "cell_type": "code",
   "execution_count": 38,
   "id": "39285361-7451-4461-bd2c-ce1643744ab2",
   "metadata": {},
   "outputs": [
    {
     "name": "stdin",
     "output_type": "stream",
     "text": [
      " 45\n",
      " 3\n"
     ]
    },
    {
     "ename": "TypeError",
     "evalue": "not all arguments converted during string formatting",
     "output_type": "error",
     "traceback": [
      "\u001b[0;31m---------------------------------------------------------------------------\u001b[0m",
      "\u001b[0;31mTypeError\u001b[0m                                 Traceback (most recent call last)",
      "Cell \u001b[0;32mIn[38], line 3\u001b[0m\n\u001b[1;32m      1\u001b[0m A\u001b[38;5;241m=\u001b[39m\u001b[38;5;28minput\u001b[39m()\n\u001b[1;32m      2\u001b[0m B\u001b[38;5;241m=\u001b[39m\u001b[38;5;28minput\u001b[39m()\n\u001b[0;32m----> 3\u001b[0m \u001b[38;5;28;01mwhile\u001b[39;00m \u001b[43mA\u001b[49m\u001b[38;5;241;43m%\u001b[39;49m\u001b[43mB\u001b[49m\u001b[38;5;241m==\u001b[39m\u001b[38;5;241m0\u001b[39m:\n\u001b[1;32m      4\u001b[0m     C\u001b[38;5;241m=\u001b[39mA\u001b[38;5;241m%\u001b[39mB\n\u001b[1;32m      5\u001b[0m     \u001b[38;5;28mprint\u001b[39m(c)\n",
      "\u001b[0;31mTypeError\u001b[0m: not all arguments converted during string formatting"
     ]
    }
   ],
   "source": [
    "A=input()\n",
    "B=input()\n",
    "count \n",
    "while A%B==0:\n",
    "    C=A%B\n",
    "    print(c)"
   ]
  },
  {
   "cell_type": "code",
   "execution_count": null,
   "id": "d3ad96e8-a922-495f-84b3-6ce578474236",
   "metadata": {},
   "outputs": [],
   "source": []
  },
  {
   "cell_type": "code",
   "execution_count": null,
   "id": "ca86134c-7b2c-433f-b87e-080d29caf146",
   "metadata": {},
   "outputs": [],
   "source": []
  },
  {
   "cell_type": "code",
   "execution_count": null,
   "id": "2c8e3014-8f9c-44b3-820e-f028e38643f5",
   "metadata": {},
   "outputs": [],
   "source": []
  },
  {
   "cell_type": "code",
   "execution_count": null,
   "id": "39102983-bbdc-4c07-9094-97a8dbd78875",
   "metadata": {},
   "outputs": [],
   "source": []
  },
  {
   "cell_type": "code",
   "execution_count": null,
   "id": "3d44def3-7f44-4706-9973-595eff4090f5",
   "metadata": {},
   "outputs": [],
   "source": []
  },
  {
   "cell_type": "code",
   "execution_count": null,
   "id": "16c28209-624f-45ff-a8e1-30343db36e9d",
   "metadata": {},
   "outputs": [],
   "source": []
  },
  {
   "cell_type": "code",
   "execution_count": null,
   "id": "1c41e8fd-2fb5-422e-991f-18a7145b50f4",
   "metadata": {},
   "outputs": [],
   "source": []
  }
 ],
 "metadata": {
  "kernelspec": {
   "display_name": "Python 3 (ipykernel)",
   "language": "python",
   "name": "python3"
  },
  "language_info": {
   "codemirror_mode": {
    "name": "ipython",
    "version": 3
   },
   "file_extension": ".py",
   "mimetype": "text/x-python",
   "name": "python",
   "nbconvert_exporter": "python",
   "pygments_lexer": "ipython3",
   "version": "3.10.8"
  }
 },
 "nbformat": 4,
 "nbformat_minor": 5
}
